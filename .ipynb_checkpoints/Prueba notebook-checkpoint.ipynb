{
 "metadata": {
  "name": "",
  "signature": "sha256:42a118ee9d9d6dc82937a76b19459e6aca6cd607a075d673082304ea0f9039ca"
 },
 "nbformat": 3,
 "nbformat_minor": 0,
 "worksheets": [
  {
   "cells": [
    {
     "cell_type": "code",
     "collapsed": false,
     "input": [
      "a = 0.0\n",
      "b = 3.0\n",
      "N = 100\n",
      "\n",
      "\n",
      "def f(y):\n",
      "\treturn y*y\n",
      "\n",
      "\n",
      "def wTrap(i, h):\n",
      "\n",
      "\tif ((i == 1) or (i ==N)):\n",
      "\t\twLocal=h/2.0\n",
      "\t\n",
      "\telse:\n",
      "\t\twLocal = h\n",
      "\t\n",
      "\treturn wLocal\n",
      "\n",
      "\n",
      "h = (b - a)/(N - 1)\n",
      "\n",
      "\n",
      "suma= 0.0\n",
      "\n",
      "\n",
      "for i in range (1, N+1):\n",
      "\n",
      "\tt= a + (i-1)*h\n",
      "\n",
      "\tw=wTrap(i, h)\n",
      "\n",
      "\tsuma = suma + w*f(t)\n",
      "\n",
      "\n",
      "\n",
      "print '\\n Final sum=', suma\n"
     ],
     "language": "python",
     "metadata": {},
     "outputs": []
    },
    {
     "cell_type": "code",
     "collapsed": false,
     "input": [],
     "language": "python",
     "metadata": {},
     "outputs": []
    },
    {
     "cell_type": "code",
     "collapsed": false,
     "input": [],
     "language": "python",
     "metadata": {},
     "outputs": []
    }
   ],
   "metadata": {}
  }
 ]
}